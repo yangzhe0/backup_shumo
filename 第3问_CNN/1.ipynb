{
 "cells": [
  {
   "cell_type": "code",
   "execution_count": 1,
   "id": "93c46856",
   "metadata": {},
   "outputs": [
    {
     "name": "stdout",
     "output_type": "stream",
     "text": [
      "正在从 '../第3问_CNN/index.csv' 加载索引文件...\n",
      "\n",
      "索引加载并清洗完成！\n",
      "\n",
      "分离出源域和目标域：\n",
      "domain\n",
      "source    161\n",
      "target     16\n",
      "Name: count, dtype: int64\n",
      "\n",
      "已筛选出源域数据进行处理，预览:\n"
     ]
    },
    {
     "data": {
      "text/html": [
       "<div>\n",
       "<style scoped>\n",
       "    .dataframe tbody tr th:only-of-type {\n",
       "        vertical-align: middle;\n",
       "    }\n",
       "\n",
       "    .dataframe tbody tr th {\n",
       "        vertical-align: top;\n",
       "    }\n",
       "\n",
       "    .dataframe thead th {\n",
       "        text-align: right;\n",
       "    }\n",
       "</style>\n",
       "<table border=\"1\" class=\"dataframe\">\n",
       "  <thead>\n",
       "    <tr style=\"text-align: right;\">\n",
       "      <th></th>\n",
       "      <th>csv_path</th>\n",
       "      <th>fs</th>\n",
       "      <th>rpm</th>\n",
       "      <th>label</th>\n",
       "      <th>domain</th>\n",
       "    </tr>\n",
       "  </thead>\n",
       "  <tbody>\n",
       "    <tr>\n",
       "      <th>0</th>\n",
       "      <td>../第3问_CNN/cleaned/48kHz_Normal_data/N_0.csv</td>\n",
       "      <td>48000</td>\n",
       "      <td>1796</td>\n",
       "      <td>N</td>\n",
       "      <td>source</td>\n",
       "    </tr>\n",
       "    <tr>\n",
       "      <th>1</th>\n",
       "      <td>../第3问_CNN/cleaned/48kHz_Normal_data/N_1_(1772...</td>\n",
       "      <td>48000</td>\n",
       "      <td>1772</td>\n",
       "      <td>N</td>\n",
       "      <td>source</td>\n",
       "    </tr>\n",
       "    <tr>\n",
       "      <th>2</th>\n",
       "      <td>../第3问_CNN/cleaned/48kHz_Normal_data/N_2_(1750...</td>\n",
       "      <td>48000</td>\n",
       "      <td>1750</td>\n",
       "      <td>N</td>\n",
       "      <td>source</td>\n",
       "    </tr>\n",
       "    <tr>\n",
       "      <th>3</th>\n",
       "      <td>../第3问_CNN/cleaned/48kHz_Normal_data/N_3.csv</td>\n",
       "      <td>48000</td>\n",
       "      <td>1725</td>\n",
       "      <td>N</td>\n",
       "      <td>source</td>\n",
       "    </tr>\n",
       "    <tr>\n",
       "      <th>20</th>\n",
       "      <td>../第3问_CNN/cleaned/12kHz_DE_data/B/0007/B007_0...</td>\n",
       "      <td>12000</td>\n",
       "      <td>1798</td>\n",
       "      <td>B</td>\n",
       "      <td>source</td>\n",
       "    </tr>\n",
       "  </tbody>\n",
       "</table>\n",
       "</div>"
      ],
      "text/plain": [
       "                                             csv_path     fs   rpm label  \\\n",
       "0        ../第3问_CNN/cleaned/48kHz_Normal_data/N_0.csv  48000  1796     N   \n",
       "1   ../第3问_CNN/cleaned/48kHz_Normal_data/N_1_(1772...  48000  1772     N   \n",
       "2   ../第3问_CNN/cleaned/48kHz_Normal_data/N_2_(1750...  48000  1750     N   \n",
       "3        ../第3问_CNN/cleaned/48kHz_Normal_data/N_3.csv  48000  1725     N   \n",
       "20  ../第3问_CNN/cleaned/12kHz_DE_data/B/0007/B007_0...  12000  1798     B   \n",
       "\n",
       "    domain  \n",
       "0   source  \n",
       "1   source  \n",
       "2   source  \n",
       "3   source  \n",
       "20  source  "
      ]
     },
     "metadata": {},
     "output_type": "display_data"
    }
   ],
   "source": [
    "import pandas as pd\n",
    "from pathlib import Path\n",
    "import numpy as np\n",
    "\n",
    "# --- 配置 ---\n",
    "INDEX_PATH = Path(\"../第3问_CNN/index.csv\")\n",
    "TARGET_DOMAIN_PREFIX = \"../第3问_CNN/cleaned/目标域/\"\n",
    "\n",
    "# --- 定义我们要查找的列名映射 ---\n",
    "# {'标准名': ['可能存在的列名片段1', '片段2', ...]}\n",
    "COLUMN_SEARCH_MAP = {\n",
    "    'csv_path': ['csv_path'],\n",
    "    'fs': ['赫兹', '采样率'],\n",
    "    'rpm': ['转速'],\n",
    "    'label': ['故障类']\n",
    "}\n",
    "\n",
    "# --- 加载与清洗索引文件 ---\n",
    "print(f\"正在从 '{INDEX_PATH}' 加载索引文件...\")\n",
    "\n",
    "try:\n",
    "    # 尝试用 utf-8-sig 编码，这能更好地处理带BOM的CSV文件\n",
    "    df_index = pd.read_csv(INDEX_PATH, encoding='utf-8-sig')\n",
    "    \n",
    "    # 原始列名，用于调试\n",
    "    original_cols = df_index.columns.tolist()\n",
    "    # 清洗列名，转为小写并去除首尾空格\n",
    "    df_index.columns = [str(c).strip().lower() for c in df_index.columns]\n",
    "\n",
    "    found_cols = {}\n",
    "    for standard_name, possible_names in COLUMN_SEARCH_MAP.items():\n",
    "        for col in df_index.columns:\n",
    "            # 检查任一可能的名字是否存在于列名中\n",
    "            if any(p_name in col for p_name in possible_names):\n",
    "                found_cols[standard_name] = col\n",
    "                break # 找到后就跳出内层循环\n",
    "    \n",
    "    # 检查是否所有必要的列都找到了\n",
    "    required_keys = ['csv_path', 'fs', 'rpm', 'label']\n",
    "    if not all(key in found_cols for key in required_keys):\n",
    "        missing = [key for key in required_keys if key not in found_cols]\n",
    "        raise ValueError(f\"错误：索引文件中缺少必要的列: {missing}。 原始列为: {original_cols}\")\n",
    "\n",
    "    # 筛选我们需要的列\n",
    "    df_filtered = df_index[list(found_cols.values())].copy()\n",
    "    \n",
    "    # 构建重命名映射并执行\n",
    "    rename_dict = {v: k for k, v in found_cols.items()}\n",
    "    df_filtered.rename(columns=rename_dict, inplace=True)\n",
    "\n",
    "    # 转换数据类型，无效值设为 NaN\n",
    "    df_filtered['fs'] = pd.to_numeric(df_filtered['fs'], errors='coerce')\n",
    "    df_filtered['rpm'] = pd.to_numeric(df_filtered['rpm'], errors='coerce')\n",
    "\n",
    "    # --- 分离源域和目标域 ---\n",
    "    df_filtered['domain'] = np.where(df_filtered['csv_path'].str.startswith(TARGET_DOMAIN_PREFIX), 'target', 'source')\n",
    "    \n",
    "    # 暂时只处理源域数据\n",
    "    df_source = df_filtered[df_filtered['domain'] == 'source'].copy()\n",
    "\n",
    "    print(\"\\n索引加载并清洗完成！\")\n",
    "    print(f\"\\n分离出源域和目标域：\\n{df_filtered['domain'].value_counts()}\")\n",
    "    print(\"\\n已筛选出源域数据进行处理，预览:\")\n",
    "    display(df_source.head())\n",
    "\n",
    "except FileNotFoundError:\n",
    "    print(f\"错误：无法在 '{INDEX_PATH}' 找到索引文件。请检查路径是否正确。\")\n",
    "except Exception as e:\n",
    "    print(f\"发生错误: {e}\")"
   ]
  },
  {
   "cell_type": "code",
   "execution_count": 2,
   "id": "d22422bc",
   "metadata": {},
   "outputs": [
    {
     "name": "stdout",
     "output_type": "stream",
     "text": [
      "--- Testing the Channel Selector Function ---\n",
      "Attempting to load signal from: ../第3问_CNN/cleaned/48kHz_Normal_data/N_0.csv\n",
      "\n",
      "✅ Success!\n",
      "   Signal Length: 243938\n",
      "   Data Type: float64\n",
      "   First 5 values: [ 0.04063871  0.07610333  0.08715994  0.04606271 -0.01714775]\n"
     ]
    }
   ],
   "source": [
    "import numpy as np\n",
    "from pathlib import Path\n",
    "\n",
    "def select_channel_from_file(file_path: str) -> np.ndarray | None:\n",
    "    \"\"\"\n",
    "    Reads data from a given CSV file and selects a single channel based on the priority DE -> FE -> BA.\n",
    "    \n",
    "    Args:\n",
    "        file_path (str): The path to the CSV file.\n",
    "\n",
    "    Returns:\n",
    "        np.ndarray | None: A 1D NumPy array of the signal data if successful, otherwise None.\n",
    "    \"\"\"\n",
    "    try:\n",
    "        p = Path(file_path)\n",
    "        if not p.exists():\n",
    "            print(f\"Error: File not found at {file_path}\")\n",
    "            return None\n",
    "            \n",
    "        df_signal = pd.read_csv(p)\n",
    "        \n",
    "        # Standardize column names to uppercase for consistent checking\n",
    "        df_signal.columns = [str(c).strip().upper() for c in df_signal.columns]\n",
    "        \n",
    "        signal_data = None\n",
    "        if 'DE' in df_signal.columns:\n",
    "            signal_data = df_signal['DE'].values\n",
    "        elif 'FE' in df_signal.columns:\n",
    "            signal_data = df_signal['FE'].values\n",
    "        elif 'BA' in df_signal.columns:\n",
    "            signal_data = df_signal['BA'].values\n",
    "        else:\n",
    "            print(f\"Warning: No priority channel (DE, FE, BA) found in {p.name}.\")\n",
    "            return None\n",
    "        \n",
    "        # Ensure data is float and handle potential non-numeric values\n",
    "        signal_data = pd.to_numeric(signal_data, errors='coerce')\n",
    "        \n",
    "        # Check for NaNs that may have been introduced by 'coerce'\n",
    "        nan_count = np.isnan(signal_data).sum()\n",
    "        if nan_count > 0:\n",
    "            print(f\"Warning: Found and filled {nan_count} non-numeric values in {p.name}.\")\n",
    "            # A simple strategy: fill NaNs with the mean of the valid points\n",
    "            mean_val = np.nanmean(signal_data)\n",
    "            signal_data = np.nan_to_num(signal_data, nan=mean_val)\n",
    "            \n",
    "        return signal_data.astype(float)\n",
    "\n",
    "    except Exception as e:\n",
    "        print(f\"An error occurred while processing {file_path}: {e}\")\n",
    "        return None\n",
    "\n",
    "# --- Function Test ---\n",
    "print(\"--- Testing the Channel Selector Function ---\")\n",
    "\n",
    "# Get the first file path from our source dataframe\n",
    "first_row = df_source.iloc[0]\n",
    "file_to_test = first_row['csv_path']\n",
    "\n",
    "print(f\"Attempting to load signal from: {file_to_test}\")\n",
    "\n",
    "# Call the function\n",
    "signal_array = select_channel_from_file(file_to_test)\n",
    "\n",
    "if signal_array is not None:\n",
    "    print(\"\\n✅ Success!\")\n",
    "    print(f\"   Signal Length: {len(signal_array)}\")\n",
    "    print(f\"   Data Type: {signal_array.dtype}\")\n",
    "    print(f\"   First 5 values: {signal_array[:5]}\")\n",
    "else:\n",
    "    print(\"\\n❌ Failed to load signal.\")"
   ]
  },
  {
   "cell_type": "code",
   "execution_count": 3,
   "id": "da150ebf",
   "metadata": {},
   "outputs": [
    {
     "name": "stdout",
     "output_type": "stream",
     "text": [
      "--- Testing the Resampling Function ---\n",
      "Original FS: 48000 Hz, Original Length: 243938\n",
      "Target FS: 32000 Hz\n",
      "\n",
      "✅ Success!\n",
      "   New Resampled Length: 162625\n",
      "   Data Type: float32\n",
      "   First 5 values: [ 0.04457123  0.08584069  0.04788527 -0.04789851 -0.08382716]\n"
     ]
    }
   ],
   "source": [
    "from scipy.signal import resample\n",
    "\n",
    "# --- Configuration ---\n",
    "TARGET_FS = 32000 # Hz\n",
    "\n",
    "def resample_signal(signal_array: np.ndarray, original_fs: int, target_fs: int = TARGET_FS) -> np.ndarray:\n",
    "    \"\"\"\n",
    "    Resamples a signal to a target sampling frequency.\n",
    "    \n",
    "    Args:\n",
    "        signal_array (np.ndarray): The input 1D signal array.\n",
    "        original_fs (int): The original sampling frequency of the signal.\n",
    "        target_fs (int): The target sampling frequency.\n",
    "\n",
    "    Returns:\n",
    "        np.ndarray: The resampled signal array.\n",
    "    \"\"\"\n",
    "    if original_fs == target_fs:\n",
    "        # No resampling needed if the rates are already the same\n",
    "        return signal_array\n",
    "        \n",
    "    # Calculate the number of samples in the new signal\n",
    "    duration = len(signal_array) / original_fs\n",
    "    num_target_samples = int(duration * target_fs)\n",
    "    \n",
    "    # Perform resampling\n",
    "    resampled_signal = resample(signal_array, num_target_samples)\n",
    "    \n",
    "    return resampled_signal.astype(np.float32) # Use float32 to save memory\n",
    "\n",
    "# --- Function Test ---\n",
    "print(\"--- Testing the Resampling Function ---\")\n",
    "\n",
    "# We use the signal_array loaded in the previous cell\n",
    "# We need its original sampling rate from our dataframe\n",
    "original_sampling_rate = first_row['fs']\n",
    "\n",
    "print(f\"Original FS: {original_sampling_rate} Hz, Original Length: {len(signal_array)}\")\n",
    "print(f\"Target FS: {TARGET_FS} Hz\")\n",
    "\n",
    "# Call the resampling function\n",
    "resampled_array = resample_signal(signal_array, original_fs=original_sampling_rate)\n",
    "\n",
    "if resampled_array is not None:\n",
    "    print(\"\\n✅ Success!\")\n",
    "    print(f\"   New Resampled Length: {len(resampled_array)}\")\n",
    "    print(f\"   Data Type: {resampled_array.dtype}\")\n",
    "    print(f\"   First 5 values: {resampled_array[:5]}\")\n",
    "else:\n",
    "    print(\"\\n❌ Failed to resample signal.\")"
   ]
  },
  {
   "cell_type": "code",
   "execution_count": 4,
   "id": "dc5f1a43",
   "metadata": {},
   "outputs": [
    {
     "name": "stdout",
     "output_type": "stream",
     "text": [
      "--- Testing the Angular Synchronization Function ---\n",
      "Input Signal Length: 162625, RPM: 1796\n",
      "\n",
      "✅ Success!\n",
      "   New Angle-Domain Length: 109440\n",
      "   Data Type: float32\n",
      "   First 5 values: [ 0.04457123  0.06744063 -0.04498304 -0.07470046 -0.06240746]\n"
     ]
    }
   ],
   "source": [
    "import numpy as np\n",
    "\n",
    "# --- Configuration ---\n",
    "PPR = 720  # Points Per Revolution. A higher value captures more detail. 720 is a good start.\n",
    "\n",
    "# 只需要更新 angle_sync 函数即可\n",
    "\n",
    "def angle_sync(signal_array: np.ndarray, rpm: float, fs: int = TARGET_FS, ppr: int = PPR) -> np.ndarray | None:\n",
    "    \"\"\"\n",
    "    Performs angular synchronization on a time-domain signal.\n",
    "    \"\"\"\n",
    "    # --- 新增的检查 ---\n",
    "    # 如果输入的信号数组是空的，直接返回None\n",
    "    if signal_array.size == 0:\n",
    "        print(\"Warning: Received an empty signal array. Skipping angular sync.\")\n",
    "        return None\n",
    "\n",
    "    if rpm <= 0 or not np.isfinite(rpm):\n",
    "        print(f\"Warning: Invalid RPM ({rpm}). Skipping angular sync.\")\n",
    "        return None\n",
    "        \n",
    "    # Rotational frequency in Hz (revolutions per second)\n",
    "    fr = rpm / 60.0\n",
    "    \n",
    "    # Original time vector for the input signal\n",
    "    t_original = np.arange(len(signal_array)) / fs\n",
    "    \n",
    "    # Calculate the total number of full revolutions in the signal\n",
    "    total_revs = t_original[-1] * fr\n",
    "    if total_revs < 1:\n",
    "        print(f\"Warning: Signal is too short ({total_revs:.2f} revs) for angular sync. Need at least 1 revolution.\")\n",
    "        return None\n",
    "        \n",
    "    # (函数的其余部分保持不变)\n",
    "    num_full_revs = int(np.floor(total_revs))\n",
    "    total_angle = 2 * np.pi * num_full_revs\n",
    "    num_new_points = num_full_revs * ppr\n",
    "    angle_new = np.linspace(0, total_angle, num=num_new_points, endpoint=False)\n",
    "    angle_original = 2 * np.pi * fr * t_original\n",
    "    angle_domain_signal = np.interp(angle_new, angle_original, signal_array)\n",
    "    \n",
    "    return angle_domain_signal.astype(np.float32)\n",
    "# --- Function Test ---\n",
    "print(\"--- Testing the Angular Synchronization Function ---\")\n",
    "\n",
    "# We use the resampled_array from the previous cell\n",
    "# We need its original RPM from our dataframe\n",
    "rpm_value = first_row['rpm']\n",
    "\n",
    "print(f\"Input Signal Length: {len(resampled_array)}, RPM: {rpm_value}\")\n",
    "\n",
    "# Call the angular sync function\n",
    "angle_synced_array = angle_sync(resampled_array, rpm=rpm_value)\n",
    "\n",
    "if angle_synced_array is not None:\n",
    "    print(\"\\n✅ Success!\")\n",
    "    print(f\"   New Angle-Domain Length: {len(angle_synced_array)}\")\n",
    "    print(f\"   Data Type: {angle_synced_array.dtype}\")\n",
    "    print(f\"   First 5 values: {angle_synced_array[:5]}\")\n",
    "else:\n",
    "    print(\"\\n❌ Failed to perform angular synchronization.\")"
   ]
  },
  {
   "cell_type": "code",
   "execution_count": 5,
   "id": "21269c7c",
   "metadata": {},
   "outputs": [
    {
     "name": "stdout",
     "output_type": "stream",
     "text": [
      "--- 测试STFT图像生成函数 ---\n",
      "\n",
      "✅ 成功生成STFT图像!\n",
      "   图像尺寸 (阶次bins, 时间steps): (129, 1711)\n",
      "   数据类型: float32\n"
     ]
    },
    {
     "data": {
      "image/png": "[encoded data removed]",
      "text/plain": [
       "<Figure size 1000x600 with 2 Axes>"
      ]
     },
     "metadata": {},
     "output_type": "display_data"
    }
   ],
   "source": [
    "import numpy as np\n",
    "from scipy.signal import stft\n",
    "import matplotlib.pyplot as plt\n",
    "import matplotlib.font_manager as fm\n",
    "myfont = fm.FontProperties(fname=\"/usr/share/fonts/opentype/noto/NotoSerifCJK-Bold.ttc\")\n",
    "plt.rcParams['font.family'] = myfont.get_name()\n",
    "plt.rcParams['axes.unicode_minus'] = False\n",
    "# --- 配置 ---\n",
    "# STFT参数，这些参数可以调整以改变图像的分辨率\n",
    "N_PER_SEG = 256  # STFT每一段的长度，可以理解为图像的“垂直分辨率”\n",
    "N_OVERLAP = 192  # 每一段之间的重叠部分，通常是 N_PER_SEG 的 50% 到 75%\n",
    "\n",
    "def generate_stft_image(angle_domain_signal: np.ndarray, ppr: int = PPR) -> np.ndarray:\n",
    "    \"\"\"\n",
    "    使用STFT将一维角度域信号转换为二维阶次-时间图。\n",
    "    \n",
    "    Args:\n",
    "        angle_domain_signal (np.ndarray): 输入的一维角度域信号。\n",
    "        ppr (int): 每转点数，在角度域中，它扮演了“采样率”的角色。\n",
    "\n",
    "    Returns:\n",
    "        np.ndarray: 代表信号的二维图像矩阵。\n",
    "    \"\"\"\n",
    "    # 在角度域信号上进行STFT\n",
    "    # 这里的 fs 参数就是我们的 ppr，因为单位是“点/转”\n",
    "    # 输出的频率 f 的单位将是“阶次 (Order)”\n",
    "    orders, _, Zxx = stft(\n",
    "        angle_domain_signal,\n",
    "        fs=ppr,\n",
    "        nperseg=N_PER_SEG,\n",
    "        noverlap=N_OVERLAP\n",
    "    )\n",
    "    \n",
    "    # 我们只需要幅值，并进行对数变换以压缩动态范围，便于模型学习\n",
    "    # np.log1p(x) 等同于 np.log(1+x)，可以避免对0取对数\n",
    "    stft_image = np.log1p(np.abs(Zxx))\n",
    "    \n",
    "    return stft_image.astype(np.float32)\n",
    "\n",
    "# --- 函数测试 ---\n",
    "print(\"--- 测试STFT图像生成函数 ---\")\n",
    "\n",
    "# 使用上一单元格生成的 angle_synced_array\n",
    "stft_result_image = generate_stft_image(angle_synced_array)\n",
    "\n",
    "if stft_result_image is not None:\n",
    "    print(\"\\n✅ 成功生成STFT图像!\")\n",
    "    print(f\"   图像尺寸 (阶次bins, 时间steps): {stft_result_image.shape}\")\n",
    "    print(f\"   数据类型: {stft_result_image.dtype}\")\n",
    "    \n",
    "    # --- 可视化 ---\n",
    "    plt.figure(figsize=(10, 6))\n",
    "    plt.imshow(stft_result_image, aspect='auto', origin='lower',\n",
    "               extent=[0, len(angle_synced_array)/PPR, 0, PPR/2])\n",
    "    plt.colorbar(label='对数幅值')\n",
    "    plt.xlabel('转数 (Revolutions)')\n",
    "    plt.ylabel('阶次 (Order)')\n",
    "    plt.title('生成的阶次-时间图')\n",
    "    plt.show()\n",
    "    \n",
    "else:\n",
    "    print(\"\\n❌ 生成STFT图像失败。\")"
   ]
  },
  {
   "cell_type": "code",
   "execution_count": 6,
   "id": "97628431",
   "metadata": {},
   "outputs": [
    {
     "data": {
      "application/vnd.jupyter.widget-view+json": {
       "model_id": "6a6a75b7449040ebbba659563baf8cf5",
       "version_major": 2,
       "version_minor": 0
      },
      "text/plain": [
       "正在处理源域文件:   0%|          | 0/161 [00:00<?, ?it/s]"
      ]
     },
     "metadata": {},
     "output_type": "display_data"
    },
    {
     "name": "stdout",
     "output_type": "stream",
     "text": [
      "\n",
      "🎉 全部处理完成！\n",
      "成功处理了 161 / 161 个文件。\n",
      "所有图像已保存至: ../第3问_CNN/processed_images\n",
      "新的元数据文件已保存至: ../第3问_CNN/source_manifest.csv\n"
     ]
    },
    {
     "data": {
      "text/html": [
       "<div>\n",
       "<style scoped>\n",
       "    .dataframe tbody tr th:only-of-type {\n",
       "        vertical-align: middle;\n",
       "    }\n",
       "\n",
       "    .dataframe tbody tr th {\n",
       "        vertical-align: top;\n",
       "    }\n",
       "\n",
       "    .dataframe thead th {\n",
       "        text-align: right;\n",
       "    }\n",
       "</style>\n",
       "<table border=\"1\" class=\"dataframe\">\n",
       "  <thead>\n",
       "    <tr style=\"text-align: right;\">\n",
       "      <th></th>\n",
       "      <th>image_path</th>\n",
       "      <th>original_file</th>\n",
       "      <th>label</th>\n",
       "      <th>rpm</th>\n",
       "      <th>original_fs</th>\n",
       "    </tr>\n",
       "  </thead>\n",
       "  <tbody>\n",
       "    <tr>\n",
       "      <th>0</th>\n",
       "      <td>../第3问_CNN/processed_images/N_0.npy</td>\n",
       "      <td>../第3问_CNN/cleaned/48kHz_Normal_data/N_0.csv</td>\n",
       "      <td>N</td>\n",
       "      <td>1796</td>\n",
       "      <td>48000</td>\n",
       "    </tr>\n",
       "    <tr>\n",
       "      <th>1</th>\n",
       "      <td>../第3问_CNN/processed_images/N_1_(1772rpm).npy</td>\n",
       "      <td>../第3问_CNN/cleaned/48kHz_Normal_data/N_1_(1772...</td>\n",
       "      <td>N</td>\n",
       "      <td>1772</td>\n",
       "      <td>48000</td>\n",
       "    </tr>\n",
       "    <tr>\n",
       "      <th>2</th>\n",
       "      <td>../第3问_CNN/processed_images/N_2_(1750rpm).npy</td>\n",
       "      <td>../第3问_CNN/cleaned/48kHz_Normal_data/N_2_(1750...</td>\n",
       "      <td>N</td>\n",
       "      <td>1750</td>\n",
       "      <td>48000</td>\n",
       "    </tr>\n",
       "    <tr>\n",
       "      <th>3</th>\n",
       "      <td>../第3问_CNN/processed_images/N_3.npy</td>\n",
       "      <td>../第3问_CNN/cleaned/48kHz_Normal_data/N_3.csv</td>\n",
       "      <td>N</td>\n",
       "      <td>1725</td>\n",
       "      <td>48000</td>\n",
       "    </tr>\n",
       "    <tr>\n",
       "      <th>4</th>\n",
       "      <td>../第3问_CNN/processed_images/B007_0.npy</td>\n",
       "      <td>../第3问_CNN/cleaned/12kHz_DE_data/B/0007/B007_0...</td>\n",
       "      <td>B</td>\n",
       "      <td>1798</td>\n",
       "      <td>12000</td>\n",
       "    </tr>\n",
       "  </tbody>\n",
       "</table>\n",
       "</div>"
      ],
      "text/plain": [
       "                                      image_path  \\\n",
       "0            ../第3问_CNN/processed_images/N_0.npy   \n",
       "1  ../第3问_CNN/processed_images/N_1_(1772rpm).npy   \n",
       "2  ../第3问_CNN/processed_images/N_2_(1750rpm).npy   \n",
       "3            ../第3问_CNN/processed_images/N_3.npy   \n",
       "4         ../第3问_CNN/processed_images/B007_0.npy   \n",
       "\n",
       "                                       original_file label   rpm  original_fs  \n",
       "0       ../第3问_CNN/cleaned/48kHz_Normal_data/N_0.csv     N  1796        48000  \n",
       "1  ../第3问_CNN/cleaned/48kHz_Normal_data/N_1_(1772...     N  1772        48000  \n",
       "2  ../第3问_CNN/cleaned/48kHz_Normal_data/N_2_(1750...     N  1750        48000  \n",
       "3       ../第3问_CNN/cleaned/48kHz_Normal_data/N_3.csv     N  1725        48000  \n",
       "4  ../第3问_CNN/cleaned/12kHz_DE_data/B/0007/B007_0...     B  1798        12000  "
      ]
     },
     "metadata": {},
     "output_type": "display_data"
    }
   ],
   "source": [
    "import pandas as pd\n",
    "from pathlib import Path\n",
    "from tqdm.notebook import tqdm\n",
    "import os\n",
    "\n",
    "# --- 配置 ---\n",
    "# 创建一个目录来存放我们生成的图像\n",
    "OUTPUT_DIR = Path(\"../第3问_CNN/processed_images\")\n",
    "OUTPUT_DIR.mkdir(parents=True, exist_ok=True)\n",
    "\n",
    "# --- 批量处理循环 ---\n",
    "processed_metadata = []  # 用于存储成功处理的文件的信息\n",
    "\n",
    "# 使用 tqdm 来显示进度条\n",
    "for index, row in tqdm(df_source.iterrows(), total=len(df_source), desc=\"正在处理源域文件\"):\n",
    "    \n",
    "    # 获取当前文件的元数据\n",
    "    file_path_str = row['csv_path']\n",
    "    original_fs = row['fs']\n",
    "    rpm = row['rpm']\n",
    "    label = row['label']\n",
    "\n",
    "    # --- Step 1: 智能通道选择 ---\n",
    "    signal = select_channel_from_file(file_path_str)\n",
    "    if signal is None:\n",
    "        print(f\"跳过：无法从 {file_path_str} 加载信号\")\n",
    "        continue\n",
    "\n",
    "    # --- Step 2: 重采样 ---\n",
    "    resampled = resample_signal(signal, original_fs=original_fs)\n",
    "    if resampled is None:\n",
    "        print(f\"跳过：重采样失败 {file_path_str}\")\n",
    "        continue\n",
    "\n",
    "    # --- Step 3: 角同步 ---\n",
    "    angle_synced = angle_sync(resampled, rpm=rpm)\n",
    "    if angle_synced is None:\n",
    "        print(f\"跳过：角同步失败 {file_path_str}\")\n",
    "        continue\n",
    "        \n",
    "    # --- Step 4: 生成STFT图像 ---\n",
    "    stft_image = generate_stft_image(angle_synced)\n",
    "    if stft_image is None:\n",
    "        print(f\"跳过：STFT图像生成失败 {file_path_str}\")\n",
    "        continue\n",
    "        \n",
    "    # --- Step 5: 保存图像并记录元数据 ---\n",
    "    # 创建一个有意义的文件名\n",
    "    original_stem = Path(file_path_str).stem\n",
    "    output_filename = f\"{original_stem}.npy\"\n",
    "    output_path = OUTPUT_DIR / output_filename\n",
    "    \n",
    "    # 保存为 .npy 文件，这比图片格式更能保留原始数据\n",
    "    np.save(output_path, stft_image)\n",
    "    \n",
    "    # 记录成功处理文件的信息\n",
    "    processed_metadata.append({\n",
    "        'image_path': str(output_path),\n",
    "        'original_file': file_path_str,\n",
    "        'label': label,\n",
    "        'rpm': rpm,\n",
    "        'original_fs': original_fs\n",
    "    })\n",
    "\n",
    "# --- 创建最终的元数据文件 ---\n",
    "df_processed = pd.DataFrame(processed_metadata)\n",
    "manifest_path = OUTPUT_DIR.parent / \"source_manifest.csv\"\n",
    "df_processed.to_csv(manifest_path, index=False, encoding='utf-8-sig')\n",
    "\n",
    "print(f\"\\n🎉 全部处理完成！\")\n",
    "print(f\"成功处理了 {len(df_processed)} / {len(df_source)} 个文件。\")\n",
    "print(f\"所有图像已保存至: {OUTPUT_DIR}\")\n",
    "print(f\"新的元数据文件已保存至: {manifest_path}\")\n",
    "display(df_processed.head())"
   ]
  },
  {
   "cell_type": "code",
   "execution_count": 7,
   "id": "0ffcc2cb",
   "metadata": {},
   "outputs": [
    {
     "name": "stdout",
     "output_type": "stream",
     "text": [
      "--- 准备数据集和加载器 ---\n",
      "找到的类别: {'B': 0, 'IR': 1, 'N': 2, 'OR': 3}\n",
      "✅ 带过采样功能的数据加载器准备就绪！\n",
      "\n",
      "--- 开始训练 (最终整合版) ---\n",
      "使用设备: cuda\n"
     ]
    },
    {
     "data": {
      "application/vnd.jupyter.widget-view+json": {
       "model_id": "71029883918b46799b6221194c8fdde1",
       "version_major": 2,
       "version_minor": 0
      },
      "text/plain": [
       "Epoch 1/50:   0%|          | 0/6 [00:00<?, ?it/s]"
      ]
     },
     "metadata": {},
     "output_type": "display_data"
    },
    {
     "name": "stdout",
     "output_type": "stream",
     "text": [
      "Epoch 1/50 完成, 平均损失: 7.6564\n"
     ]
    },
    {
     "data": {
      "application/vnd.jupyter.widget-view+json": {
       "model_id": "aa85878a2c6c410cb756c0b8b32b08cd",
       "version_major": 2,
       "version_minor": 0
      },
      "text/plain": [
       "Epoch 2/50:   0%|          | 0/6 [00:00<?, ?it/s]"
      ]
     },
     "metadata": {},
     "output_type": "display_data"
    },
    {
     "name": "stdout",
     "output_type": "stream",
     "text": [
      "Epoch 2/50 完成, 平均损失: 4.0125\n"
     ]
    },
    {
     "data": {
      "application/vnd.jupyter.widget-view+json": {
       "model_id": "65a8212bbb25464b803d15297df88d69",
       "version_major": 2,
       "version_minor": 0
      },
      "text/plain": [
       "Epoch 3/50:   0%|          | 0/6 [00:00<?, ?it/s]"
      ]
     },
     "metadata": {},
     "output_type": "display_data"
    },
    {
     "name": "stdout",
     "output_type": "stream",
     "text": [
      "Epoch 3/50 完成, 平均损失: 2.4687\n"
     ]
    },
    {
     "data": {
      "application/vnd.jupyter.widget-view+json": {
       "model_id": "06788b79b5874b12848dd5e7483be788",
       "version_major": 2,
       "version_minor": 0
      },
      "text/plain": [
       "Epoch 4/50:   0%|          | 0/6 [00:00<?, ?it/s]"
      ]
     },
     "metadata": {},
     "output_type": "display_data"
    },
    {
     "name": "stdout",
     "output_type": "stream",
     "text": [
      "Epoch 4/50 完成, 平均损失: 2.1196\n"
     ]
    },
    {
     "data": {
      "application/vnd.jupyter.widget-view+json": {
       "model_id": "1122b1e3a6f94544b8745821bdbdd34d",
       "version_major": 2,
       "version_minor": 0
      },
      "text/plain": [
       "Epoch 5/50:   0%|          | 0/6 [00:00<?, ?it/s]"
      ]
     },
     "metadata": {},
     "output_type": "display_data"
    },
    {
     "name": "stdout",
     "output_type": "stream",
     "text": [
      "Epoch 5/50 完成, 平均损失: 2.2502\n"
     ]
    },
    {
     "data": {
      "application/vnd.jupyter.widget-view+json": {
       "model_id": "dd40c0fc98aa4e758a5bf0e65bb082ce",
       "version_major": 2,
       "version_minor": 0
      },
      "text/plain": [
       "Epoch 6/50:   0%|          | 0/6 [00:00<?, ?it/s]"
      ]
     },
     "metadata": {},
     "output_type": "display_data"
    },
    {
     "name": "stdout",
     "output_type": "stream",
     "text": [
      "Epoch 6/50 完成, 平均损失: 1.9846\n"
     ]
    },
    {
     "data": {
      "application/vnd.jupyter.widget-view+json": {
       "model_id": "b401571ab8574542a64250088a7a0159",
       "version_major": 2,
       "version_minor": 0
      },
      "text/plain": [
       "Epoch 7/50:   0%|          | 0/6 [00:00<?, ?it/s]"
      ]
     },
     "metadata": {},
     "output_type": "display_data"
    },
    {
     "name": "stdout",
     "output_type": "stream",
     "text": [
      "Epoch 7/50 完成, 平均损失: 1.3070\n"
     ]
    },
    {
     "data": {
      "application/vnd.jupyter.widget-view+json": {
       "model_id": "7695e975c64348fea978560c286fc362",
       "version_major": 2,
       "version_minor": 0
      },
      "text/plain": [
       "Epoch 8/50:   0%|          | 0/6 [00:00<?, ?it/s]"
      ]
     },
     "metadata": {},
     "output_type": "display_data"
    },
    {
     "name": "stdout",
     "output_type": "stream",
     "text": [
      "Epoch 8/50 完成, 平均损失: 0.9588\n"
     ]
    },
    {
     "data": {
      "application/vnd.jupyter.widget-view+json": {
       "model_id": "9db4d152fdb542a69640cee69e0c7c68",
       "version_major": 2,
       "version_minor": 0
      },
      "text/plain": [
       "Epoch 9/50:   0%|          | 0/6 [00:00<?, ?it/s]"
      ]
     },
     "metadata": {},
     "output_type": "display_data"
    },
    {
     "name": "stdout",
     "output_type": "stream",
     "text": [
      "Epoch 9/50 完成, 平均损失: 0.4661\n"
     ]
    },
    {
     "data": {
      "application/vnd.jupyter.widget-view+json": {
       "model_id": "4afb415551c948ca8f8754d71459996d",
       "version_major": 2,
       "version_minor": 0
      },
      "text/plain": [
       "Epoch 10/50:   0%|          | 0/6 [00:00<?, ?it/s]"
      ]
     },
     "metadata": {},
     "output_type": "display_data"
    },
    {
     "name": "stdout",
     "output_type": "stream",
     "text": [
      "Epoch 10/50 完成, 平均损失: 0.6920\n"
     ]
    },
    {
     "data": {
      "application/vnd.jupyter.widget-view+json": {
       "model_id": "e180c3edba194c699ae15ab20ff1ee4c",
       "version_major": 2,
       "version_minor": 0
      },
      "text/plain": [
       "Epoch 11/50:   0%|          | 0/6 [00:00<?, ?it/s]"
      ]
     },
     "metadata": {},
     "output_type": "display_data"
    },
    {
     "name": "stdout",
     "output_type": "stream",
     "text": [
      "Epoch 11/50 完成, 平均损失: 1.1975\n"
     ]
    },
    {
     "data": {
      "application/vnd.jupyter.widget-view+json": {
       "model_id": "5a54b25ce88e46579bbb324cd2ff86b6",
       "version_major": 2,
       "version_minor": 0
      },
      "text/plain": [
       "Epoch 12/50:   0%|          | 0/6 [00:00<?, ?it/s]"
      ]
     },
     "metadata": {},
     "output_type": "display_data"
    },
    {
     "name": "stdout",
     "output_type": "stream",
     "text": [
      "Epoch 12/50 完成, 平均损失: 0.4490\n"
     ]
    },
    {
     "data": {
      "application/vnd.jupyter.widget-view+json": {
       "model_id": "3eb47fadb97246fcb451bd2484443e45",
       "version_major": 2,
       "version_minor": 0
      },
      "text/plain": [
       "Epoch 13/50:   0%|          | 0/6 [00:00<?, ?it/s]"
      ]
     },
     "metadata": {},
     "output_type": "display_data"
    },
    {
     "name": "stdout",
     "output_type": "stream",
     "text": [
      "Epoch 13/50 完成, 平均损失: 1.0712\n"
     ]
    },
    {
     "data": {
      "application/vnd.jupyter.widget-view+json": {
       "model_id": "2b6d0119025f42a6bc88b78fcb60410c",
       "version_major": 2,
       "version_minor": 0
      },
      "text/plain": [
       "Epoch 14/50:   0%|          | 0/6 [00:00<?, ?it/s]"
      ]
     },
     "metadata": {},
     "output_type": "display_data"
    },
    {
     "name": "stdout",
     "output_type": "stream",
     "text": [
      "Epoch 14/50 完成, 平均损失: 0.6291\n"
     ]
    },
    {
     "data": {
      "application/vnd.jupyter.widget-view+json": {
       "model_id": "b59e00508bd04a76ad06c8c304748a4f",
       "version_major": 2,
       "version_minor": 0
      },
      "text/plain": [
       "Epoch 15/50:   0%|          | 0/6 [00:00<?, ?it/s]"
      ]
     },
     "metadata": {},
     "output_type": "display_data"
    },
    {
     "name": "stdout",
     "output_type": "stream",
     "text": [
      "Epoch 15/50 完成, 平均损失: 0.8112\n"
     ]
    },
    {
     "data": {
      "application/vnd.jupyter.widget-view+json": {
       "model_id": "325bcc0d09c8476aa19e83aa256a2e8b",
       "version_major": 2,
       "version_minor": 0
      },
      "text/plain": [
       "Epoch 16/50:   0%|          | 0/6 [00:00<?, ?it/s]"
      ]
     },
     "metadata": {},
     "output_type": "display_data"
    },
    {
     "name": "stdout",
     "output_type": "stream",
     "text": [
      "Epoch 16/50 完成, 平均损失: 1.3450\n"
     ]
    },
    {
     "data": {
      "application/vnd.jupyter.widget-view+json": {
       "model_id": "2ef532ddacab4f509d7357c675164ed6",
       "version_major": 2,
       "version_minor": 0
      },
      "text/plain": [
       "Epoch 17/50:   0%|          | 0/6 [00:00<?, ?it/s]"
      ]
     },
     "metadata": {},
     "output_type": "display_data"
    },
    {
     "name": "stdout",
     "output_type": "stream",
     "text": [
      "Epoch 17/50 完成, 平均损失: 1.1442\n"
     ]
    },
    {
     "data": {
      "application/vnd.jupyter.widget-view+json": {
       "model_id": "4fe62355be5e4a099421b1e3371a45eb",
       "version_major": 2,
       "version_minor": 0
      },
      "text/plain": [
       "Epoch 18/50:   0%|          | 0/6 [00:00<?, ?it/s]"
      ]
     },
     "metadata": {},
     "output_type": "display_data"
    },
    {
     "name": "stdout",
     "output_type": "stream",
     "text": [
      "Epoch 18/50 完成, 平均损失: 0.6993\n"
     ]
    },
    {
     "data": {
      "application/vnd.jupyter.widget-view+json": {
       "model_id": "4e9b84b2dd9c476a83adc7aaa3a82aa4",
       "version_major": 2,
       "version_minor": 0
      },
      "text/plain": [
       "Epoch 19/50:   0%|          | 0/6 [00:00<?, ?it/s]"
      ]
     },
     "metadata": {},
     "output_type": "display_data"
    },
    {
     "name": "stdout",
     "output_type": "stream",
     "text": [
      "Epoch 19/50 完成, 平均损失: 1.4102\n"
     ]
    },
    {
     "data": {
      "application/vnd.jupyter.widget-view+json": {
       "model_id": "261e0f7b56634b4cb3f094c01e226508",
       "version_major": 2,
       "version_minor": 0
      },
      "text/plain": [
       "Epoch 20/50:   0%|          | 0/6 [00:00<?, ?it/s]"
      ]
     },
     "metadata": {},
     "output_type": "display_data"
    },
    {
     "name": "stdout",
     "output_type": "stream",
     "text": [
      "Epoch 20/50 完成, 平均损失: 0.5519\n"
     ]
    },
    {
     "data": {
      "application/vnd.jupyter.widget-view+json": {
       "model_id": "b28aea15c266460a8e717afdf22fc6a7",
       "version_major": 2,
       "version_minor": 0
      },
      "text/plain": [
       "Epoch 21/50:   0%|          | 0/6 [00:00<?, ?it/s]"
      ]
     },
     "metadata": {},
     "output_type": "display_data"
    },
    {
     "name": "stdout",
     "output_type": "stream",
     "text": [
      "Epoch 21/50 完成, 平均损失: 0.8708\n"
     ]
    },
    {
     "data": {
      "application/vnd.jupyter.widget-view+json": {
       "model_id": "2be97bc0a0a64f29840a2fa555d5a574",
       "version_major": 2,
       "version_minor": 0
      },
      "text/plain": [
       "Epoch 22/50:   0%|          | 0/6 [00:00<?, ?it/s]"
      ]
     },
     "metadata": {},
     "output_type": "display_data"
    },
    {
     "name": "stdout",
     "output_type": "stream",
     "text": [
      "Epoch 22/50 完成, 平均损失: 0.9634\n"
     ]
    },
    {
     "data": {
      "application/vnd.jupyter.widget-view+json": {
       "model_id": "2d2987ea3c1a4f2f879a3b51ff5e735f",
       "version_major": 2,
       "version_minor": 0
      },
      "text/plain": [
       "Epoch 23/50:   0%|          | 0/6 [00:00<?, ?it/s]"
      ]
     },
     "metadata": {},
     "output_type": "display_data"
    },
    {
     "name": "stdout",
     "output_type": "stream",
     "text": [
      "Epoch 23/50 完成, 平均损失: 0.4443\n"
     ]
    },
    {
     "data": {
      "application/vnd.jupyter.widget-view+json": {
       "model_id": "be1e8aca31434c84a378f474f6f865c0",
       "version_major": 2,
       "version_minor": 0
      },
      "text/plain": [
       "Epoch 24/50:   0%|          | 0/6 [00:00<?, ?it/s]"
      ]
     },
     "metadata": {},
     "output_type": "display_data"
    },
    {
     "name": "stdout",
     "output_type": "stream",
     "text": [
      "Epoch 24/50 完成, 平均损失: 0.5074\n"
     ]
    },
    {
     "data": {
      "application/vnd.jupyter.widget-view+json": {
       "model_id": "89a7bfc59d2f452faf8e7719d43b4ee3",
       "version_major": 2,
       "version_minor": 0
      },
      "text/plain": [
       "Epoch 25/50:   0%|          | 0/6 [00:00<?, ?it/s]"
      ]
     },
     "metadata": {},
     "output_type": "display_data"
    },
    {
     "name": "stdout",
     "output_type": "stream",
     "text": [
      "Epoch 25/50 完成, 平均损失: 0.4119\n"
     ]
    },
    {
     "data": {
      "application/vnd.jupyter.widget-view+json": {
       "model_id": "c74d2fe1a92f4fd8a1e50fab4ac2766a",
       "version_major": 2,
       "version_minor": 0
      },
      "text/plain": [
       "Epoch 26/50:   0%|          | 0/6 [00:00<?, ?it/s]"
      ]
     },
     "metadata": {},
     "output_type": "display_data"
    },
    {
     "name": "stdout",
     "output_type": "stream",
     "text": [
      "Epoch 26/50 完成, 平均损失: 0.3855\n"
     ]
    },
    {
     "data": {
      "application/vnd.jupyter.widget-view+json": {
       "model_id": "e5ac28cad4c34721b52d6a28b275072d",
       "version_major": 2,
       "version_minor": 0
      },
      "text/plain": [
       "Epoch 27/50:   0%|          | 0/6 [00:00<?, ?it/s]"
      ]
     },
     "metadata": {},
     "output_type": "display_data"
    },
    {
     "name": "stdout",
     "output_type": "stream",
     "text": [
      "Epoch 27/50 完成, 平均损失: 0.3433\n"
     ]
    },
    {
     "data": {
      "application/vnd.jupyter.widget-view+json": {
       "model_id": "662fb27379a1475d9de5a21666ffef2a",
       "version_major": 2,
       "version_minor": 0
      },
      "text/plain": [
       "Epoch 28/50:   0%|          | 0/6 [00:00<?, ?it/s]"
      ]
     },
     "metadata": {},
     "output_type": "display_data"
    },
    {
     "name": "stdout",
     "output_type": "stream",
     "text": [
      "Epoch 28/50 完成, 平均损失: 0.4633\n"
     ]
    },
    {
     "data": {
      "application/vnd.jupyter.widget-view+json": {
       "model_id": "8e39511944484f36bcfd73954643d5e8",
       "version_major": 2,
       "version_minor": 0
      },
      "text/plain": [
       "Epoch 29/50:   0%|          | 0/6 [00:00<?, ?it/s]"
      ]
     },
     "metadata": {},
     "output_type": "display_data"
    },
    {
     "name": "stdout",
     "output_type": "stream",
     "text": [
      "Epoch 29/50 完成, 平均损失: 0.8657\n"
     ]
    },
    {
     "data": {
      "application/vnd.jupyter.widget-view+json": {
       "model_id": "32f80c90940d464d9606c1ad15aecff5",
       "version_major": 2,
       "version_minor": 0
      },
      "text/plain": [
       "Epoch 30/50:   0%|          | 0/6 [00:00<?, ?it/s]"
      ]
     },
     "metadata": {},
     "output_type": "display_data"
    },
    {
     "name": "stdout",
     "output_type": "stream",
     "text": [
      "Epoch 30/50 完成, 平均损失: 0.4587\n"
     ]
    },
    {
     "data": {
      "application/vnd.jupyter.widget-view+json": {
       "model_id": "89c6c551b40c4f85846f57452e814a71",
       "version_major": 2,
       "version_minor": 0
      },
      "text/plain": [
       "Epoch 31/50:   0%|          | 0/6 [00:00<?, ?it/s]"
      ]
     },
     "metadata": {},
     "output_type": "display_data"
    },
    {
     "name": "stdout",
     "output_type": "stream",
     "text": [
      "Epoch 31/50 完成, 平均损失: 0.4465\n"
     ]
    },
    {
     "data": {
      "application/vnd.jupyter.widget-view+json": {
       "model_id": "5978ee6d41e34b39821ec2ab5acbb8bf",
       "version_major": 2,
       "version_minor": 0
      },
      "text/plain": [
       "Epoch 32/50:   0%|          | 0/6 [00:00<?, ?it/s]"
      ]
     },
     "metadata": {},
     "output_type": "display_data"
    },
    {
     "name": "stdout",
     "output_type": "stream",
     "text": [
      "Epoch 32/50 完成, 平均损失: 0.6846\n"
     ]
    },
    {
     "data": {
      "application/vnd.jupyter.widget-view+json": {
       "model_id": "bf405e9bf8094a4c84b224338f6794b3",
       "version_major": 2,
       "version_minor": 0
      },
      "text/plain": [
       "Epoch 33/50:   0%|          | 0/6 [00:00<?, ?it/s]"
      ]
     },
     "metadata": {},
     "output_type": "display_data"
    },
    {
     "name": "stdout",
     "output_type": "stream",
     "text": [
      "Epoch 33/50 完成, 平均损失: 0.4695\n"
     ]
    },
    {
     "data": {
      "application/vnd.jupyter.widget-view+json": {
       "model_id": "ec6c8b19b7414e70b0f7a92636fcb314",
       "version_major": 2,
       "version_minor": 0
      },
      "text/plain": [
       "Epoch 34/50:   0%|          | 0/6 [00:00<?, ?it/s]"
      ]
     },
     "metadata": {},
     "output_type": "display_data"
    },
    {
     "name": "stdout",
     "output_type": "stream",
     "text": [
      "Epoch 34/50 完成, 平均损失: 0.4394\n"
     ]
    },
    {
     "data": {
      "application/vnd.jupyter.widget-view+json": {
       "model_id": "9b5e9775e4ce4ca1be76bce5df9a44ab",
       "version_major": 2,
       "version_minor": 0
      },
      "text/plain": [
       "Epoch 35/50:   0%|          | 0/6 [00:00<?, ?it/s]"
      ]
     },
     "metadata": {},
     "output_type": "display_data"
    },
    {
     "name": "stdout",
     "output_type": "stream",
     "text": [
      "Epoch 35/50 完成, 平均损失: 0.4327\n"
     ]
    },
    {
     "data": {
      "application/vnd.jupyter.widget-view+json": {
       "model_id": "44f111c2fee34c9d835bfb671e5fc7c5",
       "version_major": 2,
       "version_minor": 0
      },
      "text/plain": [
       "Epoch 36/50:   0%|          | 0/6 [00:00<?, ?it/s]"
      ]
     },
     "metadata": {},
     "output_type": "display_data"
    },
    {
     "name": "stdout",
     "output_type": "stream",
     "text": [
      "Epoch 36/50 完成, 平均损失: 0.5964\n"
     ]
    },
    {
     "data": {
      "application/vnd.jupyter.widget-view+json": {
       "model_id": "d9569d6611b644608f83d88225af94fa",
       "version_major": 2,
       "version_minor": 0
      },
      "text/plain": [
       "Epoch 37/50:   0%|          | 0/6 [00:00<?, ?it/s]"
      ]
     },
     "metadata": {},
     "output_type": "display_data"
    },
    {
     "name": "stdout",
     "output_type": "stream",
     "text": [
      "Epoch 37/50 完成, 平均损失: 0.3581\n"
     ]
    },
    {
     "data": {
      "application/vnd.jupyter.widget-view+json": {
       "model_id": "d9797028a2e94efeabbd2b96b60eea65",
       "version_major": 2,
       "version_minor": 0
      },
      "text/plain": [
       "Epoch 38/50:   0%|          | 0/6 [00:00<?, ?it/s]"
      ]
     },
     "metadata": {},
     "output_type": "display_data"
    },
    {
     "name": "stdout",
     "output_type": "stream",
     "text": [
      "Epoch 38/50 完成, 平均损失: 0.3309\n"
     ]
    },
    {
     "data": {
      "application/vnd.jupyter.widget-view+json": {
       "model_id": "20137f7eb7254e4699857f31d5debfe6",
       "version_major": 2,
       "version_minor": 0
      },
      "text/plain": [
       "Epoch 39/50:   0%|          | 0/6 [00:00<?, ?it/s]"
      ]
     },
     "metadata": {},
     "output_type": "display_data"
    },
    {
     "name": "stdout",
     "output_type": "stream",
     "text": [
      "Epoch 39/50 完成, 平均损失: 0.4264\n"
     ]
    },
    {
     "data": {
      "application/vnd.jupyter.widget-view+json": {
       "model_id": "59da734d09494ca3b8184477fc9df34f",
       "version_major": 2,
       "version_minor": 0
      },
      "text/plain": [
       "Epoch 40/50:   0%|          | 0/6 [00:00<?, ?it/s]"
      ]
     },
     "metadata": {},
     "output_type": "display_data"
    },
    {
     "name": "stdout",
     "output_type": "stream",
     "text": [
      "Epoch 40/50 完成, 平均损失: 0.4097\n"
     ]
    },
    {
     "data": {
      "application/vnd.jupyter.widget-view+json": {
       "model_id": "c79bace63d5e492ba0685a6633b03cbd",
       "version_major": 2,
       "version_minor": 0
      },
      "text/plain": [
       "Epoch 41/50:   0%|          | 0/6 [00:00<?, ?it/s]"
      ]
     },
     "metadata": {},
     "output_type": "display_data"
    },
    {
     "name": "stdout",
     "output_type": "stream",
     "text": [
      "Epoch 41/50 完成, 平均损失: 0.4222\n"
     ]
    },
    {
     "data": {
      "application/vnd.jupyter.widget-view+json": {
       "model_id": "cee759f804b146c995aa53e400896556",
       "version_major": 2,
       "version_minor": 0
      },
      "text/plain": [
       "Epoch 42/50:   0%|          | 0/6 [00:00<?, ?it/s]"
      ]
     },
     "metadata": {},
     "output_type": "display_data"
    },
    {
     "name": "stdout",
     "output_type": "stream",
     "text": [
      "Epoch 42/50 完成, 平均损失: 0.3608\n"
     ]
    },
    {
     "data": {
      "application/vnd.jupyter.widget-view+json": {
       "model_id": "1683e26b497b4cde8c8f141a39211266",
       "version_major": 2,
       "version_minor": 0
      },
      "text/plain": [
       "Epoch 43/50:   0%|          | 0/6 [00:00<?, ?it/s]"
      ]
     },
     "metadata": {},
     "output_type": "display_data"
    },
    {
     "name": "stdout",
     "output_type": "stream",
     "text": [
      "Epoch 43/50 完成, 平均损失: 0.4809\n"
     ]
    },
    {
     "data": {
      "application/vnd.jupyter.widget-view+json": {
       "model_id": "753a78ec63f64342ba7fcd8b8810abe7",
       "version_major": 2,
       "version_minor": 0
      },
      "text/plain": [
       "Epoch 44/50:   0%|          | 0/6 [00:00<?, ?it/s]"
      ]
     },
     "metadata": {},
     "output_type": "display_data"
    },
    {
     "name": "stdout",
     "output_type": "stream",
     "text": [
      "Epoch 44/50 完成, 平均损失: 0.5732\n"
     ]
    },
    {
     "data": {
      "application/vnd.jupyter.widget-view+json": {
       "model_id": "bb008cc3121347f2a83857ad1c287b95",
       "version_major": 2,
       "version_minor": 0
      },
      "text/plain": [
       "Epoch 45/50:   0%|          | 0/6 [00:00<?, ?it/s]"
      ]
     },
     "metadata": {},
     "output_type": "display_data"
    },
    {
     "name": "stdout",
     "output_type": "stream",
     "text": [
      "Epoch 45/50 完成, 平均损失: 0.6922\n"
     ]
    },
    {
     "data": {
      "application/vnd.jupyter.widget-view+json": {
       "model_id": "a1755dee8ba84ab9b9e5e171c5e27b62",
       "version_major": 2,
       "version_minor": 0
      },
      "text/plain": [
       "Epoch 46/50:   0%|          | 0/6 [00:00<?, ?it/s]"
      ]
     },
     "metadata": {},
     "output_type": "display_data"
    },
    {
     "name": "stdout",
     "output_type": "stream",
     "text": [
      "Epoch 46/50 完成, 平均损失: 0.3217\n"
     ]
    },
    {
     "data": {
      "application/vnd.jupyter.widget-view+json": {
       "model_id": "23da6e09bc104627a8d360d8c152e460",
       "version_major": 2,
       "version_minor": 0
      },
      "text/plain": [
       "Epoch 47/50:   0%|          | 0/6 [00:00<?, ?it/s]"
      ]
     },
     "metadata": {},
     "output_type": "display_data"
    },
    {
     "name": "stdout",
     "output_type": "stream",
     "text": [
      "Epoch 47/50 完成, 平均损失: 0.3146\n"
     ]
    },
    {
     "data": {
      "application/vnd.jupyter.widget-view+json": {
       "model_id": "731c9c0776544d688032b9694b690ece",
       "version_major": 2,
       "version_minor": 0
      },
      "text/plain": [
       "Epoch 48/50:   0%|          | 0/6 [00:00<?, ?it/s]"
      ]
     },
     "metadata": {},
     "output_type": "display_data"
    },
    {
     "name": "stdout",
     "output_type": "stream",
     "text": [
      "Epoch 48/50 完成, 平均损失: 0.3115\n"
     ]
    },
    {
     "data": {
      "application/vnd.jupyter.widget-view+json": {
       "model_id": "c67ba8f7f62a4419800e358da228c959",
       "version_major": 2,
       "version_minor": 0
      },
      "text/plain": [
       "Epoch 49/50:   0%|          | 0/6 [00:00<?, ?it/s]"
      ]
     },
     "metadata": {},
     "output_type": "display_data"
    },
    {
     "name": "stdout",
     "output_type": "stream",
     "text": [
      "Epoch 49/50 完成, 平均损失: 0.4476\n"
     ]
    },
    {
     "data": {
      "application/vnd.jupyter.widget-view+json": {
       "model_id": "246d013386a8436a9b285f594811ded1",
       "version_major": 2,
       "version_minor": 0
      },
      "text/plain": [
       "Epoch 50/50:   0%|          | 0/6 [00:00<?, ?it/s]"
      ]
     },
     "metadata": {},
     "output_type": "display_data"
    },
    {
     "name": "stdout",
     "output_type": "stream",
     "text": [
      "Epoch 50/50 完成, 平均损失: 0.5564\n",
      "\n",
      "--- 训练完成 ---\n",
      "优化后的模型已保存至: ./source_domain_model_oversampled.pth\n"
     ]
    }
   ],
   "source": [
    "import torch\n",
    "import torch.nn as nn\n",
    "import torch.optim as optim\n",
    "from torch.utils.data import Dataset, DataLoader, WeightedRandomSampler\n",
    "import pandas as pd\n",
    "import numpy as np\n",
    "import gc\n",
    "\n",
    "from pathlib import Path\n",
    "from sklearn.utils.class_weight import compute_class_weight\n",
    "from tqdm.notebook import tqdm\n",
    "import torch.nn.functional as F\n",
    "\n",
    "# ==============================================================================\n",
    "# 单元格 1: 所有定义（类和函数）\n",
    "# ==============================================================================\n",
    "\n",
    "# --- 配置 ---\n",
    "MANIFEST_PATH = Path(\"../第3问_CNN/source_manifest.csv\")\n",
    "BATCH_SIZE = 32\n",
    "FIXED_WIDTH = 4096\n",
    "KNOWN_IMAGE_SHAPE = (1, 129, 4096) # (Channels, Height, Width)\n",
    "\n",
    "# --- Dataset 定义 ---\n",
    "class BearingDataset(Dataset):\n",
    "    def __init__(self, manifest_path: Path, fixed_width: int):\n",
    "        self.manifest = pd.read_csv(manifest_path)\n",
    "        self.fixed_width = fixed_width\n",
    "        self.classes = sorted(self.manifest['label'].unique())\n",
    "        self.class_to_idx = {cls_name: i for i, cls_name in enumerate(self.classes)}\n",
    "    def __len__(self):\n",
    "        return len(self.manifest)\n",
    "    def _pad_or_truncate(self, image: np.ndarray) -> np.ndarray:\n",
    "        height, width = image.shape\n",
    "        if width > self.fixed_width: return image[:, :self.fixed_width]\n",
    "        elif width < self.fixed_width:\n",
    "            padding = self.fixed_width - width\n",
    "            return np.pad(image, ((0, 0), (0, padding)), mode='constant', constant_values=0)\n",
    "        return image\n",
    "    def __getitem__(self, idx):\n",
    "        row = self.manifest.iloc[idx]\n",
    "        image = np.load(row['image_path'])\n",
    "        image = self._pad_or_truncate(image)\n",
    "        label_idx = self.class_to_idx[row['label']]\n",
    "        return torch.from_numpy(image).unsqueeze(0).float(), torch.tensor(label_idx, dtype=torch.long)\n",
    "\n",
    "# --- CNN 模型定义 ---\n",
    "class SimpleCNN(nn.Module):\n",
    "    def __init__(self, num_classes: int, input_shape: tuple):\n",
    "        super(SimpleCNN, self).__init__()\n",
    "        self.features = nn.Sequential(\n",
    "            nn.Conv2d(in_channels=input_shape[0], out_channels=16, kernel_size=(3, 5), stride=1, padding=1),\n",
    "            nn.BatchNorm2d(16), nn.ReLU(), nn.MaxPool2d(kernel_size=(2, 4)),\n",
    "            nn.Conv2d(in_channels=16, out_channels=32, kernel_size=3, stride=1, padding=1),\n",
    "            nn.BatchNorm2d(32), nn.ReLU(), nn.MaxPool2d(kernel_size=(2, 4)),\n",
    "            nn.Conv2d(in_channels=32, out_channels=64, kernel_size=3, stride=1, padding=1),\n",
    "            nn.BatchNorm2d(64), nn.ReLU(), nn.MaxPool2d(kernel_size=(2, 4))\n",
    "        )\n",
    "        dummy_input = torch.randn(1, *input_shape)\n",
    "        flattened_size = self.features(dummy_input).view(1, -1).size(1)\n",
    "        self.classifier = nn.Sequential(\n",
    "            nn.Linear(in_features=flattened_size, out_features=128),\n",
    "            nn.ReLU(), nn.Dropout(0.5),\n",
    "            nn.Linear(in_features=128, out_features=num_classes)\n",
    "        )\n",
    "    def forward(self, x):\n",
    "        x = self.features(x)\n",
    "        x = x.view(x.size(0), -1)\n",
    "        return self.classifier(x)\n",
    "\n",
    "# ==============================================================================\n",
    "# 单元格 2: 数据加载和训练执行\n",
    "# ==============================================================================\n",
    "\n",
    "# --- 1. 数据加载器设置 (带过采样) ---\n",
    "print(\"--- 准备数据集和加载器 ---\")\n",
    "source_dataset = BearingDataset(manifest_path=MANIFEST_PATH, fixed_width=FIXED_WIDTH)\n",
    "print(f\"找到的类别: {source_dataset.class_to_idx}\")\n",
    "\n",
    "labels_list = pd.read_csv(MANIFEST_PATH)['label'].tolist()\n",
    "class_names = source_dataset.classes\n",
    "class_weights = compute_class_weight('balanced', classes=np.array(class_names), y=labels_list)\n",
    "class_weights_dict = {cls: weight for cls, weight in zip(class_names, class_weights)}\n",
    "sample_weights = [class_weights_dict[label] for label in labels_list]\n",
    "sampler = WeightedRandomSampler(weights=sample_weights, num_samples=len(sample_weights), replacement=True)\n",
    "\n",
    "oversample_loader = DataLoader(\n",
    "    dataset=source_dataset, batch_size=BATCH_SIZE, sampler=sampler, num_workers=2\n",
    ")\n",
    "print(\"✅ 带过采样功能的数据加载器准备就绪！\")\n",
    "\n",
    "# --- 2. 训练执行 ---\n",
    "print(\"\\n--- 开始训练 (最终整合版) ---\")\n",
    "NUM_EPOCHS = 50\n",
    "LEARNING_RATE = 0.001\n",
    "device = torch.device(\"cuda\" if torch.cuda.is_available() else \"cpu\")\n",
    "print(f\"使用设备: {device}\")\n",
    "\n",
    "model = SimpleCNN(num_classes=len(source_dataset.classes), input_shape=KNOWN_IMAGE_SHAPE)\n",
    "model.to(device)\n",
    "criterion = nn.CrossEntropyLoss() \n",
    "optimizer = optim.Adam(model.parameters(), lr=LEARNING_RATE)\n",
    "\n",
    "for epoch in range(NUM_EPOCHS):\n",
    "    model.train()\n",
    "    running_loss = 0.0\n",
    "    progress_bar = tqdm(oversample_loader, desc=f\"Epoch {epoch+1}/{NUM_EPOCHS}\")\n",
    "    for images, labels in progress_bar:\n",
    "        images, labels = images.to(device), labels.to(device)\n",
    "        optimizer.zero_grad()\n",
    "        outputs = model(images)\n",
    "        loss = criterion(outputs, labels)\n",
    "        loss.backward()\n",
    "        optimizer.step()\n",
    "        running_loss += loss.item()\n",
    "        progress_bar.set_postfix({'loss': f'{loss.item():.4f}'})\n",
    "    epoch_loss = running_loss / len(oversample_loader)\n",
    "    print(f\"Epoch {epoch+1}/{NUM_EPOCHS} 完成, 平均损失: {epoch_loss:.4f}\")\n",
    "\n",
    "    del images, labels, outputs\n",
    "    torch.cuda.empty_cache()  # 清理 GPU 内存\n",
    "    gc.collect()  # 强制垃圾回收\n",
    "\n",
    "print(\"\\n--- 训练完成 ---\")\n",
    "SAVE_PATH = \"./source_domain_model_oversampled.pth\"\n",
    "torch.save(model.state_dict(), SAVE_PATH)\n",
    "print(f\"优化后的模型已保存至: {SAVE_PATH}\")"
   ]
  },
  {
   "cell_type": "code",
   "execution_count": 8,
   "id": "fb5a29d0",
   "metadata": {},
   "outputs": [
    {
     "name": "stdout",
     "output_type": "stream",
     "text": [
      "--- 加载模型并准备评估 ---\n"
     ]
    },
    {
     "data": {
      "application/vnd.jupyter.widget-view+json": {
       "model_id": "8b6b87fa3b4142f0854e96f39d173ac9",
       "version_major": 2,
       "version_minor": 0
      },
      "text/plain": [
       "正在评估模型:   0%|          | 0/6 [00:00<?, ?it/s]"
      ]
     },
     "metadata": {},
     "output_type": "display_data"
    },
    {
     "name": "stdout",
     "output_type": "stream",
     "text": [
      "\n",
      "模型在源域上的总体准确率: 98.14%\n",
      "\n",
      "分类报告:\n",
      "              precision    recall  f1-score   support\n",
      "\n",
      "           B       0.96      0.98      0.97        47\n",
      "          IR       0.98      1.00      0.99        43\n",
      "           N       1.00      1.00      1.00        40\n",
      "          OR       1.00      0.94      0.97        31\n",
      "\n",
      "    accuracy                           0.98       161\n",
      "   macro avg       0.98      0.98      0.98       161\n",
      "weighted avg       0.98      0.98      0.98       161\n",
      "\n"
     ]
    },
    {
     "data": {
      "image/png": "[encoded data removed]",
      "text/plain": [
       "<Figure size 1000x800 with 2 Axes>"
      ]
     },
     "metadata": {},
     "output_type": "display_data"
    }
   ],
   "source": [
    "import torch\n",
    "import numpy as np\n",
    "import pandas as pd\n",
    "from sklearn.metrics import confusion_matrix, accuracy_score, classification_report\n",
    "import seaborn as sns\n",
    "import matplotlib.pyplot as plt\n",
    "\n",
    "# --- 1. 加载训练好的模型 ---\n",
    "print(\"--- 加载模型并准备评估 ---\")\n",
    "images_batch, _ = next(iter(oversample_loader))\n",
    "# 确保模型结构和之前定义的一致\n",
    "# 我们需要重新实例化模型，然后加载权重\n",
    "eval_model = SimpleCNN(num_classes=len(source_dataset.classes), input_shape=tuple(images_batch.shape[1:]))\n",
    "eval_model.load_state_dict(torch.load(\"../第3问_CNN/source_domain_model_oversampled.pth\"))\n",
    "\n",
    "# 将模型移动到设备并设置为评估模式\n",
    "eval_model.to(device)\n",
    "eval_model.eval() # 关键一步：将模型设置为评估模式（会关闭Dropout等）\n",
    "\n",
    "# --- 2. 在源域数据上进行预测 ---\n",
    "all_preds = []\n",
    "all_labels = []\n",
    "\n",
    "# torch.no_grad() 上下文管理器可以禁用梯度计算，节省内存和计算资源\n",
    "with torch.no_grad():\n",
    "    for images, labels in tqdm(oversample_loader, desc=\"正在评估模型\"):\n",
    "        images = images.to(device)\n",
    "        labels = labels.to(device)\n",
    "        \n",
    "        # 前向传播\n",
    "        outputs = eval_model(images)\n",
    "        \n",
    "        # 获取预测结果（概率最高的类别）\n",
    "        _, predicted = torch.max(outputs.data, 1)\n",
    "        \n",
    "        # 收集所有预测和真实标签\n",
    "        all_preds.extend(predicted.cpu().numpy())\n",
    "        all_labels.extend(labels.cpu().numpy())\n",
    "\n",
    "\n",
    "# --- 3. 计算并打印评估指标 ---\n",
    "# 获取类别名称，用于报告和图表\n",
    "class_names = source_dataset.classes\n",
    "\n",
    "accuracy = accuracy_score(all_labels, all_preds)\n",
    "print(f\"\\n模型在源域上的总体准确率: {accuracy * 100:.2f}%\")\n",
    "\n",
    "print(\"\\n分类报告:\")\n",
    "print(classification_report(all_labels, all_preds, target_names=class_names, zero_division=0))\n",
    "\n",
    "\n",
    "# --- 4. 绘制混淆矩阵 ---\n",
    "cm = confusion_matrix(all_labels, all_preds)\n",
    "\n",
    "plt.figure(figsize=(10, 8))\n",
    "sns.heatmap(cm, annot=True, fmt='d', cmap='Blues', \n",
    "            xticklabels=class_names, yticklabels=class_names)\n",
    "plt.title('源域模型混淆矩阵')\n",
    "plt.ylabel('真实标签 (True Label)')\n",
    "plt.xlabel('预测标签 (Predicted Label)')\n",
    "plt.show()"
   ]
  },
  {
   "cell_type": "code",
   "execution_count": 23,
   "id": "5ff0e36c",
   "metadata": {},
   "outputs": [
    {
     "name": "stdout",
     "output_type": "stream",
     "text": [
      "--- 开始最终诊断流程 (已更新NO列逻辑) ---\n",
      "找到 16 个目标域文件进行诊断。\n",
      "成功加载模型: ./source_domain_model_oversampled.pth\n"
     ]
    },
    {
     "data": {
      "application/vnd.jupyter.widget-view+json": {
       "model_id": "a9f90c0f215046648e959bad07d9f986",
       "version_major": 2,
       "version_minor": 0
      },
      "text/plain": [
       "正在诊断目标域文件:   0%|          | 0/16 [00:00<?, ?it/s]"
      ]
     },
     "metadata": {},
     "output_type": "display_data"
    },
    {
     "name": "stdout",
     "output_type": "stream",
     "text": [
      "\n",
      "--- 目标域故障诊断结果 ---\n"
     ]
    },
    {
     "data": {
      "text/html": [
       "<div>\n",
       "<style scoped>\n",
       "    .dataframe tbody tr th:only-of-type {\n",
       "        vertical-align: middle;\n",
       "    }\n",
       "\n",
       "    .dataframe tbody tr th {\n",
       "        vertical-align: top;\n",
       "    }\n",
       "\n",
       "    .dataframe thead th {\n",
       "        text-align: right;\n",
       "    }\n",
       "</style>\n",
       "<table border=\"1\" class=\"dataframe\">\n",
       "  <thead>\n",
       "    <tr style=\"text-align: right;\">\n",
       "      <th></th>\n",
       "      <th>target_file</th>\n",
       "      <th>predicted_fault_type</th>\n",
       "    </tr>\n",
       "  </thead>\n",
       "  <tbody>\n",
       "    <tr>\n",
       "      <th>0</th>\n",
       "      <td>A.csv</td>\n",
       "      <td>N</td>\n",
       "    </tr>\n",
       "    <tr>\n",
       "      <th>1</th>\n",
       "      <td>B.csv</td>\n",
       "      <td>IR</td>\n",
       "    </tr>\n",
       "    <tr>\n",
       "      <th>2</th>\n",
       "      <td>C.csv</td>\n",
       "      <td>IR</td>\n",
       "    </tr>\n",
       "    <tr>\n",
       "      <th>3</th>\n",
       "      <td>D.csv</td>\n",
       "      <td>IR</td>\n",
       "    </tr>\n",
       "    <tr>\n",
       "      <th>4</th>\n",
       "      <td>E.csv</td>\n",
       "      <td>OR</td>\n",
       "    </tr>\n",
       "    <tr>\n",
       "      <th>5</th>\n",
       "      <td>F.csv</td>\n",
       "      <td>IR</td>\n",
       "    </tr>\n",
       "    <tr>\n",
       "      <th>6</th>\n",
       "      <td>G.csv</td>\n",
       "      <td>IR</td>\n",
       "    </tr>\n",
       "    <tr>\n",
       "      <th>7</th>\n",
       "      <td>H.csv</td>\n",
       "      <td>IR</td>\n",
       "    </tr>\n",
       "    <tr>\n",
       "      <th>8</th>\n",
       "      <td>I.csv</td>\n",
       "      <td>IR</td>\n",
       "    </tr>\n",
       "    <tr>\n",
       "      <th>9</th>\n",
       "      <td>J.csv</td>\n",
       "      <td>IR</td>\n",
       "    </tr>\n",
       "    <tr>\n",
       "      <th>10</th>\n",
       "      <td>K.csv</td>\n",
       "      <td>IR</td>\n",
       "    </tr>\n",
       "    <tr>\n",
       "      <th>11</th>\n",
       "      <td>L.csv</td>\n",
       "      <td>IR</td>\n",
       "    </tr>\n",
       "    <tr>\n",
       "      <th>12</th>\n",
       "      <td>M.csv</td>\n",
       "      <td>IR</td>\n",
       "    </tr>\n",
       "    <tr>\n",
       "      <th>13</th>\n",
       "      <td>N.csv</td>\n",
       "      <td>IR</td>\n",
       "    </tr>\n",
       "    <tr>\n",
       "      <th>14</th>\n",
       "      <td>O.csv</td>\n",
       "      <td>IR</td>\n",
       "    </tr>\n",
       "    <tr>\n",
       "      <th>15</th>\n",
       "      <td>P.csv</td>\n",
       "      <td>IR</td>\n",
       "    </tr>\n",
       "  </tbody>\n",
       "</table>\n",
       "</div>"
      ],
      "text/plain": [
       "   target_file predicted_fault_type\n",
       "0        A.csv                    N\n",
       "1        B.csv                   IR\n",
       "2        C.csv                   IR\n",
       "3        D.csv                   IR\n",
       "4        E.csv                   OR\n",
       "5        F.csv                   IR\n",
       "6        G.csv                   IR\n",
       "7        H.csv                   IR\n",
       "8        I.csv                   IR\n",
       "9        J.csv                   IR\n",
       "10       K.csv                   IR\n",
       "11       L.csv                   IR\n",
       "12       M.csv                   IR\n",
       "13       N.csv                   IR\n",
       "14       O.csv                   IR\n",
       "15       P.csv                   IR"
      ]
     },
     "metadata": {},
     "output_type": "display_data"
    }
   ],
   "source": [
    "import torch\n",
    "import pandas as pd\n",
    "from pathlib import Path\n",
    "from tqdm.notebook import tqdm\n",
    "import numpy as np\n",
    "from scipy.signal import resample, stft\n",
    "import matplotlib.pyplot as plt\n",
    "import torch.nn as nn\n",
    "import torch.nn.functional as F\n",
    "\n",
    "\n",
    "# --- 1. 所有辅助函数定义 ---\n",
    "\n",
    "def select_channel_from_file(file_path: str) -> np.ndarray | None:\n",
    "    \"\"\"\n",
    "    从CSV读取信号，优先级为 DE -> FE -> BA -> NO\n",
    "    \"\"\"\n",
    "    try:\n",
    "        p = Path(file_path)\n",
    "        if not p.exists(): return None\n",
    "        df_signal = pd.read_csv(p)\n",
    "        df_signal.columns = [str(c).strip().upper() for c in df_signal.columns]\n",
    "        \n",
    "        signal_data = None\n",
    "        # 依次检查每个优先级的列是否存在且包含有效数据\n",
    "        if 'DE' in df_signal.columns and df_signal['DE'].notna().any():\n",
    "            signal_data = df_signal['DE'].values\n",
    "        elif 'FE' in df_signal.columns and df_signal['FE'].notna().any():\n",
    "            signal_data = df_signal['FE'].values\n",
    "        elif 'BA' in df_signal.columns and df_signal['BA'].notna().any():\n",
    "            signal_data = df_signal['BA'].values\n",
    "        elif 'NO' in df_signal.columns and df_signal['NO'].notna().any(): # 关键修正：添加对NO列的回退\n",
    "            # print(f\"Info: File {p.name} is using 'NO' column as signal.\")\n",
    "            signal_data = df_signal['NO'].values\n",
    "        else:\n",
    "            return None # 如果所有列都无效，则返回None\n",
    "            \n",
    "        signal_data = pd.to_numeric(signal_data, errors='coerce')\n",
    "        if np.isnan(signal_data).sum() > 0:\n",
    "            mean_val = np.nanmean(signal_data)\n",
    "            signal_data = np.nan_to_num(signal_data, nan=mean_val)\n",
    "        return signal_data.astype(float)\n",
    "    except Exception:\n",
    "        return None\n",
    "\n",
    "# (其余辅助函数与之前相同)\n",
    "def resample_signal(signal_array: np.ndarray, original_fs: int, target_fs: int = 32000) -> np.ndarray:\n",
    "    if original_fs == target_fs: return signal_array\n",
    "    duration = len(signal_array) / original_fs\n",
    "    num_target_samples = int(duration * target_fs)\n",
    "    if num_target_samples == 0: return np.array([])\n",
    "    return resample(signal_array, num_target_samples).astype(np.float32)\n",
    "\n",
    "def angle_sync(signal_array: np.ndarray, rpm: float, fs: int = 32000, ppr: int = 720) -> np.ndarray | None:\n",
    "    if signal_array.size == 0: return None\n",
    "    if rpm <= 0 or not np.isfinite(rpm): return None\n",
    "    fr = rpm / 60.0\n",
    "    t_original = np.arange(len(signal_array)) / fs\n",
    "    if len(t_original) == 0: return None\n",
    "    total_revs = t_original[-1] * fr\n",
    "    if total_revs < 1: return None\n",
    "    num_full_revs = int(np.floor(total_revs))\n",
    "    total_angle = 2 * np.pi * num_full_revs\n",
    "    num_new_points = num_full_revs * ppr\n",
    "    angle_new = np.linspace(0, total_angle, num=num_new_points, endpoint=False)\n",
    "    angle_original = 2 * np.pi * fr * t_original\n",
    "    angle_domain_signal = np.interp(angle_new, angle_original, signal_array)\n",
    "    return angle_domain_signal.astype(np.float32)\n",
    "\n",
    "def generate_stft_image(angle_domain_signal: np.ndarray, ppr: int = 720) -> np.ndarray:\n",
    "    orders, _, Zxx = stft(angle_domain_signal, fs=ppr, nperseg=256, noverlap=192)\n",
    "    return np.log1p(np.abs(Zxx)).astype(np.float32)\n",
    "\n",
    "def preprocess_single_file(file_path, original_fs, rpm):\n",
    "    signal = select_channel_from_file(file_path)\n",
    "    if signal is None: return None\n",
    "    resampled = resample_signal(signal, original_fs=original_fs)\n",
    "    if resampled is None or resampled.size==0: return None\n",
    "    angle_synced = angle_sync(resampled, rpm=rpm)\n",
    "    if angle_synced is None: return None\n",
    "    stft_image = generate_stft_image(angle_synced)\n",
    "    if stft_image is None: return None\n",
    "    height, width = stft_image.shape\n",
    "    if width > 4096: stft_image = stft_image[:, :4096]\n",
    "    elif width < 4096:\n",
    "        padding_needed = 4096 - width\n",
    "        stft_image = np.pad(stft_image, ((0, 0), (0, padding_needed)), mode='constant', constant_values=0)\n",
    "    return stft_image\n",
    "\n",
    "# --- 2. 主执行流程 ---\n",
    "print(\"--- 开始最终诊断流程 (已更新NO列逻辑) ---\")\n",
    "\n",
    "# a. 准备目标域数据\n",
    "df_target = df_filtered[df_filtered['domain'] == 'target'].copy()\n",
    "print(f\"找到 {len(df_target)} 个目标域文件进行诊断。\")\n",
    "\n",
    "# b. 加载模型 (需要重新实例化模型，以防之前的定义丢失)\n",
    "device = torch.device(\"cuda\" if torch.cuda.is_available() else \"cpu\")\n",
    "final_model = SimpleCNN(num_classes=len(source_dataset.classes), input_shape=tuple(images_batch.shape[1:]))\n",
    "MODEL_PATH = \"./source_domain_model_oversampled.pth\"\n",
    "final_model.load_state_dict(torch.load(MODEL_PATH))\n",
    "final_model.to(device)\n",
    "final_model.eval()\n",
    "print(f\"成功加载模型: {MODEL_PATH}\")\n",
    "\n",
    "# c. 循环处理并预测\n",
    "predictions = []\n",
    "idx_to_class = {i: cls for cls, i in source_dataset.class_to_idx.items()}\n",
    "\n",
    "with torch.no_grad():\n",
    "    for index, row in tqdm(df_target.iterrows(), total=len(df_target), desc=\"正在诊断目标域文件\"):\n",
    "        file_path_str, original_fs, rpm = row['csv_path'], row['fs'], row['rpm']\n",
    "        image = preprocess_single_file(file_path_str, original_fs, rpm)\n",
    "        if image is None:\n",
    "            predicted_label = \"处理失败\"\n",
    "        else:\n",
    "            image_tensor = torch.from_numpy(image).unsqueeze(0).unsqueeze(0).float().to(device)\n",
    "            output = final_model(image_tensor)\n",
    "            _, predicted_idx = torch.max(output.data, 1)\n",
    "            predicted_label = idx_to_class[predicted_idx.item()]\n",
    "        predictions.append({'target_file': Path(file_path_str).name, 'predicted_fault_type': predicted_label})\n",
    "        del image, image_tensor, output\n",
    "        torch.cuda.empty_cache()  # 清理 GPU 内存\n",
    "        gc.collect()  # 强制垃圾回收\n",
    "\n",
    "# d. 展示结果\n",
    "df_results = pd.DataFrame(predictions)\n",
    "print(\"\\n--- 目标域故障诊断结果 ---\")\n",
    "display(df_results)"
   ]
  },
  {
   "cell_type": "code",
   "execution_count": null,
   "id": "76046b1d",
   "metadata": {},
   "outputs": [],
   "source": [
    "# --- 配置 ---\n",
    "TARGET_OUTPUT_DIR = Path(\"./processed_images/target\")\n",
    "TARGET_OUTPUT_DIR.mkdir(parents=True, exist_ok=True)\n",
    "\n",
    "# --- 批量处理目标域文件 ---\n",
    "target_processed_metadata = []\n",
    "for index, row in tqdm(df_target.iterrows(), total=len(df_target), desc=\"正在处理目标域文件\"):\n",
    "    file_path_str, original_fs, rpm = row['csv_path'], row['fs'], row['rpm']\n",
    "    \n",
    "    # 使用我们之前定义好的完整预处理函数\n",
    "    image = preprocess_single_file(file_path_str, original_fs, rpm)\n",
    "    \n",
    "    if image is not None:\n",
    "        original_stem = Path(file_path_str).stem\n",
    "        output_filename = f\"{original_stem}.npy\"\n",
    "        output_path = TARGET_OUTPUT_DIR / output_filename\n",
    "        np.save(output_path, image)\n",
    "        \n",
    "        target_processed_metadata.append({\n",
    "            'image_path': str(output_path),\n",
    "            'original_file': file_path_str\n",
    "        })\n",
    "\n",
    "# --- 创建目标域的元数据文件 ---\n",
    "df_target_processed = pd.DataFrame(target_processed_metadata)\n",
    "target_manifest_path = TARGET_OUTPUT_DIR.parent / \"target_manifest.csv\"\n",
    "df_target_processed.to_csv(target_manifest_path, index=False, encoding='utf-8-sig')\n",
    "\n",
    "print(f\"\\n🎉 目标域数据处理完成！\")\n",
    "print(f\"成功处理了 {len(df_target_processed)} / {len(df_target)} 个文件。\")\n",
    "print(f\"图像已保存至: {TARGET_OUTPUT_DIR}\")\n",
    "print(f\"元数据文件已保存至: {target_manifest_path}\")"
   ]
  },
  {
   "cell_type": "code",
   "execution_count": null,
   "id": "be5dd1db",
   "metadata": {},
   "outputs": [],
   "source": [
    "# --- 源域加载器 (使用过采样) ---\n",
    "source_manifest_path = Path(\"./processed_images/source_manifest.csv\")\n",
    "source_dataset = BearingDataset(manifest_path=source_manifest_path, fixed_width=FIXED_WIDTH)\n",
    "# (这里的采样器代码来自之前的Cell 7-A，确保它已被执行)\n",
    "source_labels_list = pd.read_csv(source_manifest_path)['label'].tolist()\n",
    "class_weights = compute_class_weight('balanced', classes=np.array(source_dataset.classes), y=source_labels_list)\n",
    "class_weights_dict = {cls: weight for cls, weight in zip(source_dataset.classes, class_weights)}\n",
    "sample_weights = [class_weights_dict[label] for label in source_labels_list]\n",
    "sampler = WeightedRandomSampler(weights=sample_weights, num_samples=len(sample_weights), replacement=True)\n",
    "\n",
    "source_loader = DataLoader(\n",
    "    dataset=source_dataset,\n",
    "    batch_size=BATCH_SIZE,\n",
    "    sampler=sampler,\n",
    "    num_workers=2\n",
    ")\n",
    "\n",
    "# --- 目标域加载器 (不需要标签和采样器) ---\n",
    "class TargetDataset(Dataset): # 为目标域创建一个简单的数据集类\n",
    "    def __init__(self, manifest_path: Path, fixed_width: int):\n",
    "        self.manifest = pd.read_csv(manifest_path)\n",
    "        self.fixed_width = fixed_width\n",
    "    def __len__(self):\n",
    "        return len(self.manifest)\n",
    "    def __getitem__(self, idx):\n",
    "        # 目标域数据没有标签\n",
    "        image_path = self.manifest.iloc[idx]['image_path']\n",
    "        image = np.load(image_path)\n",
    "        # (这里的pad/truncate逻辑与BearingDataset中一致)\n",
    "        height, width = image.shape\n",
    "        if width > self.fixed_width: image = image[:, :self.fixed_width]\n",
    "        elif width < self.fixed_width:\n",
    "            padding_needed = self.fixed_width - width\n",
    "            image = np.pad(image, ((0, 0), (0, padding_needed)), mode='constant', constant_values=0)\n",
    "        return torch.from_numpy(image).unsqueeze(0).float()\n",
    "\n",
    "target_dataset = TargetDataset(manifest_path=target_manifest_path, fixed_width=FIXED_WIDTH)\n",
    "target_loader = DataLoader(\n",
    "    dataset=target_dataset,\n",
    "    batch_size=BATCH_SIZE,\n",
    "    shuffle=True, # 目标域数据可以打乱\n",
    "    num_workers=2\n",
    ")\n",
    "\n",
    "print(\"✅ 源域和目标域的数据加载器均已准备就绪！\")"
   ]
  },
  {
   "cell_type": "code",
   "execution_count": null,
   "id": "acc601c4",
   "metadata": {},
   "outputs": [],
   "source": [
    "import torch\n",
    "import torch.nn as nn\n",
    "import torch.optim as optim\n",
    "from tqdm.notebook import tqdm\n",
    "\n",
    "# --- 1. 定义CORAL损失函数 ---\n",
    "def coral_loss(source, target):\n",
    "    \"\"\"\n",
    "    计算源域和目标域特征之间的CORAL损失。\n",
    "    Args:\n",
    "        source: 源域的特征张量 (batch_size, num_features)\n",
    "        target: 目标域的特征张量 (batch_size, num_features)\n",
    "    Returns:\n",
    "        coral_loss: 计算出的损失值\n",
    "    \"\"\"\n",
    "    d = source.size(1)  # 特征维度\n",
    "\n",
    "    # a. 计算源域的协方差矩阵\n",
    "    source_mean = torch.mean(source, 0, keepdim=True)\n",
    "    source_centered = source - source_mean\n",
    "    source_cov = (source_centered.t() @ source_centered) / (source.size(0) - 1)\n",
    "\n",
    "    # b. 计算目标域的协方差矩阵\n",
    "    target_mean = torch.mean(target, 0, keepdim=True)\n",
    "    target_centered = target - target_mean\n",
    "    target_cov = (target_centered.t() @ target_centered) / (target.size(0) - 1)\n",
    "\n",
    "    # c. 计算两者差异的Frobenius范数的平方\n",
    "    loss = torch.mean(torch.mul((source_cov - target_cov), (source_cov - target_cov)))\n",
    "    \n",
    "    return loss\n",
    "\n",
    "# --- 2. 训练配置 ---\n",
    "NUM_EPOCHS = 100 # 域适应训练通常需要足够的轮次\n",
    "LEARNING_RATE = 0.0001 # 使用稍低的学习率可能更稳定\n",
    "LAMBDA_CORAL = 1.0 # CORAL损失的权重超参数，可以调整\n",
    "\n",
    "device = torch.device(\"cuda\" if torch.cuda.is_available() else \"cpu\")\n",
    "\n",
    "# 实例化一个全新的模型用于域适应训练\n",
    "da_model = SimpleCNN(num_classes=len(source_dataset.classes), input_shape=tuple(images_batch.shape[1:]))\n",
    "da_model.to(device)\n",
    "\n",
    "# --- 3. 定义损失函数和优化器 ---\n",
    "classification_criterion = nn.CrossEntropyLoss() \n",
    "optimizer = optim.Adam(da_model.parameters(), lr=LEARNING_RATE)\n",
    "\n",
    "# --- 4. 编写域适应训练循环 ---\n",
    "print(\"\\n--- 开始域适应训练 ---\")\n",
    "\n",
    "# 将目标域数据加载器变成一个可以无限循环的迭代器\n",
    "target_iter = iter(target_loader)\n",
    "\n",
    "for epoch in range(NUM_EPOCHS):\n",
    "    da_model.train()\n",
    "    total_loss, cls_loss_sum, coral_loss_sum = 0.0, 0.0, 0.0\n",
    "    \n",
    "    progress_bar = tqdm(source_loader, desc=f\"Epoch {epoch+1}/{NUM_EPOCHS}\")\n",
    "    \n",
    "    for source_images, source_labels in progress_bar:\n",
    "        # a. 从目标域加载器中获取一批数据\n",
    "        try:\n",
    "            target_images = next(target_iter)\n",
    "        except StopIteration:\n",
    "            # 如果目标域数据用完了，就重新创建一个迭代器\n",
    "            target_iter = iter(target_loader)\n",
    "            target_images = next(target_iter)\n",
    "\n",
    "        # b. 将数据移动到设备\n",
    "        source_images, source_labels = source_images.to(device), source_labels.to(device)\n",
    "        target_images = target_images.to(device)\n",
    "\n",
    "        # c. 清零梯度\n",
    "        optimizer.zero_grad()\n",
    "        \n",
    "        # d. 分别通过特征提取器\n",
    "        source_features = da_model.features(source_images)\n",
    "        target_features = da_model.features(target_images)\n",
    "        \n",
    "        # e. 源域数据通过分类器得到预测\n",
    "        source_preds = da_model.classifier(source_features.view(source_features.size(0), -1))\n",
    "        \n",
    "        # f. 计算分类损失 (只在源域上)\n",
    "        classification_loss = classification_criterion(source_preds, source_labels)\n",
    "        \n",
    "        # g. 计算CORAL损失 (在源域和目标域的特征上)\n",
    "        # 确保批次大小一致\n",
    "        min_batch_size = min(source_features.size(0), target_features.size(0))\n",
    "        c_loss = coral_loss(\n",
    "            source_features.view(source_features.size(0), -1)[:min_batch_size],\n",
    "            target_features.view(target_features.size(0), -1)[:min_batch_size]\n",
    "        )\n",
    "        \n",
    "        # h. 计算总损失\n",
    "        total_loss_batch = classification_loss + LAMBDA_CORAL * c_loss\n",
    "        \n",
    "        # i. 反向传播和优化\n",
    "        total_loss_batch.backward()\n",
    "        optimizer.step()\n",
    "\n",
    "        # 统计\n",
    "        total_loss += total_loss_batch.item()\n",
    "        cls_loss_sum += classification_loss.item()\n",
    "        coral_loss_sum += c_loss.item()\n",
    "        progress_bar.set_postfix({'cls_loss': f'{classification_loss.item():.4f}', 'coral_loss': f'{c_loss.item():.4f}'})\n",
    "\n",
    "    # 打印周期统计信息\n",
    "    avg_total_loss = total_loss / len(source_loader)\n",
    "    avg_cls_loss = cls_loss_sum / len(source_loader)\n",
    "    avg_coral_loss = coral_loss_sum / len(source_loader)\n",
    "    print(f\"Epoch {epoch+1}/{NUM_EPOCHS} 完成, 总损失: {avg_total_loss:.4f} (分类: {avg_cls_loss:.4f}, CORAL: {avg_coral_loss:.4f})\")\n",
    "\n",
    "print(\"\\n--- 域适应训练完成 ---\")\n",
    "\n",
    "# 保存最终的域适应模型\n",
    "DA_MODEL_SAVE_PATH = \"./domain_adapted_model.pth\"\n",
    "torch.save(da_model.state_dict(), DA_MODEL_SAVE_PATH)\n",
    "print(f\"域适应模型已保存至: {DA_MODEL_SAVE_PATH}\")"
   ]
  }
 ],
 "metadata": {
  "kernelspec": {
   "display_name": "base",
   "language": "python",
   "name": "python3"
  },
  "language_info": {
   "codemirror_mode": {
    "name": "ipython",
    "version": 3
   },
   "file_extension": ".py",
   "mimetype": "text/x-python",
   "name": "python",
   "nbconvert_exporter": "python",
   "pygments_lexer": "ipython3",
   "version": "3.12.7"
  }
 },
 "nbformat": 4,
 "nbformat_minor": 5
}
